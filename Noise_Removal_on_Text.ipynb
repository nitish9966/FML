{
  "nbformat": 4,
  "nbformat_minor": 0,
  "metadata": {
    "colab": {
      "provenance": [],
      "authorship_tag": "ABX9TyO9XWzCnRhZhT49R/ZPCHmh",
      "include_colab_link": true
    },
    "kernelspec": {
      "name": "python3",
      "display_name": "Python 3"
    },
    "language_info": {
      "name": "python"
    }
  },
  "cells": [
    {
      "cell_type": "markdown",
      "metadata": {
        "id": "view-in-github",
        "colab_type": "text"
      },
      "source": [
        "<a href=\"https://colab.research.google.com/github/nitish9966/FML/blob/main/Noise_Removal_on_Text.ipynb\" target=\"_parent\"><img src=\"https://colab.research.google.com/assets/colab-badge.svg\" alt=\"Open In Colab\"/></a>"
      ]
    },
    {
      "cell_type": "code",
      "execution_count": 1,
      "metadata": {
        "colab": {
          "base_uri": "https://localhost:8080/"
        },
        "id": "U5E8y5BKd3KH",
        "outputId": "d248487a-12c1-4250-d68b-c99c2c199913"
      },
      "outputs": [
        {
          "output_type": "stream",
          "name": "stderr",
          "text": [
            "[nltk_data] Downloading package punkt to /root/nltk_data...\n",
            "[nltk_data]   Unzipping tokenizers/punkt.zip.\n",
            "[nltk_data] Downloading package stopwords to /root/nltk_data...\n",
            "[nltk_data]   Unzipping corpora/stopwords.zip.\n"
          ]
        },
        {
          "output_type": "execute_result",
          "data": {
            "text/plain": [
              "True"
            ]
          },
          "metadata": {},
          "execution_count": 1
        }
      ],
      "source": [
        "import nltk\n",
        "nltk.download('punkt')\n",
        "nltk.download('stopwords')"
      ]
    },
    {
      "cell_type": "code",
      "source": [
        "import nltk\n",
        "from nltk.corpus import stopwords\n",
        "from nltk.tokenize import word_tokenize\n",
        "import string"
      ],
      "metadata": {
        "id": "lqbjO-MKuis5"
      },
      "execution_count": 2,
      "outputs": []
    },
    {
      "cell_type": "code",
      "source": [
        "def remove_pun(sent):\n",
        "  for i in sent:\n",
        "    if i in string.punctuation:\n",
        "      sent = sent.replace(i,\"\")\n",
        "  return sent\n",
        "\n",
        "def remove_stopwords(sentence):\n",
        "  stop_words = set(stopwords.words('english'))\n",
        "  word_tokens = word_tokenize(sentence)\n",
        "  filtered_sentence = []\n",
        "  for w in word_tokens:\n",
        "    if w not in stop_words:\n",
        "      filtered_sentence.append(w)\n",
        "  return filtered_sentence\n",
        "\n",
        "example = \"\"\"Mohandas Karamchand Gandhi[pron 1] (2 October 1869 – 30 January 1948) was an Indian lawyer,[4] anti-colonial nationalist[5] and political ethicist[6] who employed nonviolent resistance to lead the successful campaign for India's independence from British rule.[7] He inspired movements for civil rights and freedom across the world. The honorific Mahātmā (Sanskrit: \"great-souled\", \"venerable\"), first applied to him in 1914 in South Africa, is now used throughout the world.[8][9]\n",
        "\n",
        "Born and raised in a Hindu family in coastal Gujarat, Gandhi trained in the law at the Inner Temple, London, and was called to the bar at age 22 in June 1891. After two uncertain years in India, where he was unable to start a successful law practice, he moved to South Africa in 1893 to represent an Indian merchant in a lawsuit. He went on to live in South Africa for 21 years. It was here that Gandhi raised a family and first employed nonviolent resistance in a campaign for civil rights. In 1915, aged 45, he returned to India and soon set about organising peasants, farmers, and urban labourers to protest against excessive land-tax and discrimination.\"\"\"\n",
        "\n",
        "print(f\"Original Sentence : \\n{example}\")\n",
        "example = remove_pun(example)\n",
        "print(f\"\\nSentence after removing punctuations : \\n{example}\")\n",
        "example = \" \".join(remove_stopwords(example))\n",
        "print(f\"\\nSentence after removing stopwords : \\n{example}\")"
      ],
      "metadata": {
        "colab": {
          "base_uri": "https://localhost:8080/"
        },
        "id": "WnYz22R2upBd",
        "outputId": "fedf9dc2-7e0c-4c93-b395-e509ba61fd21"
      },
      "execution_count": 4,
      "outputs": [
        {
          "output_type": "stream",
          "name": "stdout",
          "text": [
            "Original Sentence : \n",
            "Mohandas Karamchand Gandhi[pron 1] (2 October 1869 – 30 January 1948) was an Indian lawyer,[4] anti-colonial nationalist[5] and political ethicist[6] who employed nonviolent resistance to lead the successful campaign for India's independence from British rule.[7] He inspired movements for civil rights and freedom across the world. The honorific Mahātmā (Sanskrit: \"great-souled\", \"venerable\"), first applied to him in 1914 in South Africa, is now used throughout the world.[8][9]\n",
            "\n",
            "Born and raised in a Hindu family in coastal Gujarat, Gandhi trained in the law at the Inner Temple, London, and was called to the bar at age 22 in June 1891. After two uncertain years in India, where he was unable to start a successful law practice, he moved to South Africa in 1893 to represent an Indian merchant in a lawsuit. He went on to live in South Africa for 21 years. It was here that Gandhi raised a family and first employed nonviolent resistance in a campaign for civil rights. In 1915, aged 45, he returned to India and soon set about organising peasants, farmers, and urban labourers to protest against excessive land-tax and discrimination.\n",
            "\n",
            "Sentence after removing punctuations : \n",
            "Mohandas Karamchand Gandhipron 1 2 October 1869 – 30 January 1948 was an Indian lawyer4 anticolonial nationalist5 and political ethicist6 who employed nonviolent resistance to lead the successful campaign for Indias independence from British rule7 He inspired movements for civil rights and freedom across the world The honorific Mahātmā Sanskrit greatsouled venerable first applied to him in 1914 in South Africa is now used throughout the world89\n",
            "\n",
            "Born and raised in a Hindu family in coastal Gujarat Gandhi trained in the law at the Inner Temple London and was called to the bar at age 22 in June 1891 After two uncertain years in India where he was unable to start a successful law practice he moved to South Africa in 1893 to represent an Indian merchant in a lawsuit He went on to live in South Africa for 21 years It was here that Gandhi raised a family and first employed nonviolent resistance in a campaign for civil rights In 1915 aged 45 he returned to India and soon set about organising peasants farmers and urban labourers to protest against excessive landtax and discrimination\n",
            "\n",
            "Sentence after removing stopwords : \n",
            "Mohandas Karamchand Gandhipron 1 2 October 1869 – 30 January 1948 Indian lawyer4 anticolonial nationalist5 political ethicist6 employed nonviolent resistance lead successful campaign Indias independence British rule7 He inspired movements civil rights freedom across world The honorific Mahātmā Sanskrit greatsouled venerable first applied 1914 South Africa used throughout world89 Born raised Hindu family coastal Gujarat Gandhi trained law Inner Temple London called bar age 22 June 1891 After two uncertain years India unable start successful law practice moved South Africa 1893 represent Indian merchant lawsuit He went live South Africa 21 years It Gandhi raised family first employed nonviolent resistance campaign civil rights In 1915 aged 45 returned India soon set organising peasants farmers urban labourers protest excessive landtax discrimination\n"
          ]
        }
      ]
    }
  ]
}